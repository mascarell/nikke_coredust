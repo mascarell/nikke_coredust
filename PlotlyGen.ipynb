{
  "nbformat": 4,
  "nbformat_minor": 0,
  "metadata": {
    "colab": {
      "provenance": []
    },
    "kernelspec": {
      "name": "python3",
      "display_name": "Python 3"
    },
    "language_info": {
      "name": "python"
    }
  },
  "cells": [
    {
      "cell_type": "code",
      "execution_count": 1,
      "metadata": {
        "colab": {
          "base_uri": "https://localhost:8080/"
        },
        "id": "ckiTu77Xk6HF",
        "outputId": "c4950eca-c274-4e9d-ad15-23d17394ffec"
      },
      "outputs": [
        {
          "output_type": "stream",
          "name": "stdout",
          "text": [
            "Chart saved as outpost_core_dust.html\n"
          ]
        }
      ],
      "source": [
        "import plotly.graph_objects as go\n",
        "\n",
        "# Data from previous conversion\n",
        "data = {\n",
        "    \"outpost level\": [[117, 49], [126, 50], [135, 51], [145, 52], [155, 53], [165, 54], [176, 55], [187, 56], [199, 57], [210, 58], [223, 59], [235, 60], [248, 61], [262, 62], [276, 63], [286, 64], [293, 65], [301, 66], [308, 67], [316, 68], [323, 69], [331, 70], [338, 71], [346, 72], [354, 73], [362, 74], [370, 75], [378, 76], [386, 77], [395, 78]]\n",
        "}\n",
        "\n",
        "# Define the chart\n",
        "fig = go.Figure()\n",
        "\n",
        "fig.add_trace(go.Bar(\n",
        "    x=[row[0] for row in data[\"outpost level\"]],  # Extract x-axis values (outpost level)\n",
        "    y=[row[1] for row in data[\"outpost level\"]],  # Extract y-axis values (core dust)\n",
        "    name=\"Core Dust Level\"\n",
        "))\n",
        "\n",
        "# Customize the chart layout\n",
        "fig.update_layout(\n",
        "    title=\"Outpost Level vs. Core Dust\",\n",
        "    xaxis_title=\"Outpost Level\",\n",
        "    yaxis_title=\"Core Dust\",\n",
        ")\n",
        "\n",
        "# Save the chart as a webpage\n",
        "fig.write_html(\"outpost_core_dust.html\")\n",
        "\n",
        "print(\"Chart saved as outpost_core_dust.html\")"
      ]
    },
    {
      "cell_type": "code",
      "source": [],
      "metadata": {
        "id": "KHLOJt5Uldlz"
      },
      "execution_count": null,
      "outputs": []
    }
  ]
}